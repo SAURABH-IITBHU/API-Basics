{
 "cells": [
  {
   "cell_type": "markdown",
   "id": "dfbb2117-dde0-4c12-b144-bf7109149239",
   "metadata": {},
   "source": [
    "# Q1. What is an API? Give an example, where an API is used in real life."
   ]
  },
  {
   "cell_type": "markdown",
   "id": "fb92c20f-141e-4616-a7a4-7837faf234b7",
   "metadata": {},
   "source": [
    "### Ans. An API is the interface that allows two independent software components to exchange information. An API acts as an intermediary between internal software functions and external ones, creating an exchange of information so seamless that it often goes unnoticed by the end user.\n",
    "\n",
    "### Example: Sharing flight information between airlines and travel sites. "
   ]
  },
  {
   "cell_type": "code",
   "execution_count": null,
   "id": "3dbcda72-fa9a-4a79-b48c-66302f84d0bf",
   "metadata": {},
   "outputs": [],
   "source": []
  },
  {
   "cell_type": "markdown",
   "id": "edc218c5-28bb-40ba-99d3-fa01c402b88d",
   "metadata": {},
   "source": [
    "# Q2. Give advantages and disadvantages of using API."
   ]
  },
  {
   "cell_type": "markdown",
   "id": "5932adee-e1a6-446a-a3e8-6cec72c27f07",
   "metadata": {},
   "source": [
    "### Ans. \n",
    "### Advantages:\n",
    "### The major benefit of using an API is accessing and consuming data and services from thousands of independent sources.\n",
    "### APIs increase business agility.\n",
    "\n",
    "### Disadvantage:\n",
    "### API infrastructures can be vulnerable to security breaches, such as SQL injection attacks and cross-site scripting (XSS) attacks, making it crucial to implement security measures to protect against these threats."
   ]
  },
  {
   "cell_type": "code",
   "execution_count": null,
   "id": "9267a030-a6e2-463c-a89d-9d99395c0e04",
   "metadata": {},
   "outputs": [],
   "source": []
  },
  {
   "cell_type": "markdown",
   "id": "b7ccbe16-1079-4f82-b399-ad994f62c924",
   "metadata": {},
   "source": [
    "# Q3. What is a Web API? Differentiate between API and Web API."
   ]
  },
  {
   "cell_type": "markdown",
   "id": "21574ac9-8f4c-43ad-a2aa-d9bb0f2b27b1",
   "metadata": {},
   "source": [
    "### Ans. A Web API is an application programming interface for the Web. A Browser API can extend the functionality of a web browser. A Server API can extend the functionality of a web server.\n",
    "### Difference:\n",
    "### API is an interface that exposes an application's data to outside software, whereas web applications are one type of API with stricter requirements. These requirements include network communication, SOAP as the primary protocol, and less accessibility for the public."
   ]
  },
  {
   "cell_type": "code",
   "execution_count": null,
   "id": "89ee84d0-1cf3-41ce-bab6-cba0c2554c55",
   "metadata": {},
   "outputs": [],
   "source": []
  },
  {
   "cell_type": "markdown",
   "id": "78a517e3-404b-434c-83f7-9594957079d6",
   "metadata": {},
   "source": [
    "# Q4. Explain REST and SOAP Architecture. Mention shortcomings of SOAP."
   ]
  },
  {
   "cell_type": "markdown",
   "id": "01744de3-5a0b-4c9f-8006-e1e92e1d5cd8",
   "metadata": {},
   "source": [
    "### Ans. Rest:\n",
    "### REST is a software architectural style that defines the set of rules to be used for creating web services. Web services which follow the REST architectural style are known as RESTful web services. It allows requesting systems to access and manipulate web resources by using a uniform and predefined set of rules.\n",
    "\n",
    "### SOAP:\n",
    "### The SOAP web services architecture is based on interactions between three components: a service provider, a service requester, and an optional service registry. A SOAP message is encoded as an XML document.\n",
    "\n",
    "### Sortcomings of SOAP:\n",
    "### It is slow and consumes more bandwidth and resource.\n",
    "### Scalibility is difficult.\n",
    "### Less flexible."
   ]
  },
  {
   "cell_type": "code",
   "execution_count": null,
   "id": "44a9b89d-0659-474a-9376-d25ec82adae2",
   "metadata": {},
   "outputs": [],
   "source": []
  },
  {
   "cell_type": "markdown",
   "id": "87962da4-ccc2-4ccb-b55b-e7579aeb9cc8",
   "metadata": {},
   "source": [
    "# Q5. Differentiate between REST and SOAP."
   ]
  },
  {
   "cell_type": "markdown",
   "id": "2c812993-f9d7-4f2e-a8a8-e6cf98e47de9",
   "metadata": {},
   "source": [
    "### Ans.\n",
    "### REST:\n",
    "### 1. It uses HTTP protocol.\n",
    "### 2. It is simple.\n",
    "### 3. It is known for scalibility.\n",
    "### 4. It is more flexible.\n",
    "### 5. Less Secure.\n",
    "\n",
    "### SOAP:\n",
    "### 1. It uses TCP, SMTP.\n",
    "### 2. Transfer massage through XML.\n",
    "### 3. Difficult to scale in comparision with REST.\n",
    "### 4. Less flexible.\n",
    "### 5. More Secure"
   ]
  },
  {
   "cell_type": "code",
   "execution_count": null,
   "id": "d22369f9-1175-4305-8fa1-efaf402f5f78",
   "metadata": {},
   "outputs": [],
   "source": []
  }
 ],
 "metadata": {
  "kernelspec": {
   "display_name": "Python 3 (ipykernel)",
   "language": "python",
   "name": "python3"
  },
  "language_info": {
   "codemirror_mode": {
    "name": "ipython",
    "version": 3
   },
   "file_extension": ".py",
   "mimetype": "text/x-python",
   "name": "python",
   "nbconvert_exporter": "python",
   "pygments_lexer": "ipython3",
   "version": "3.10.8"
  }
 },
 "nbformat": 4,
 "nbformat_minor": 5
}
